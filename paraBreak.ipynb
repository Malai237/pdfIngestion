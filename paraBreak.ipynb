{
 "cells": [
  {
   "cell_type": "code",
   "execution_count": 1,
   "metadata": {},
   "outputs": [],
   "source": [
    "# %pip install pdf2image\n",
    "# %pip install opencv-python pillow\n",
    "# %pip install pytesseract"
   ]
  },
  {
   "cell_type": "code",
   "execution_count": 35,
   "metadata": {},
   "outputs": [],
   "source": [
    "from pdf2image import convert_from_path\n",
    "import pytesseract\n",
    "import cv2\n",
    "from pytesseract import Output\n",
    "import pandas as pd\n",
    "import numpy as np"
   ]
  },
  {
   "cell_type": "code",
   "execution_count": 44,
   "metadata": {},
   "outputs": [],
   "source": [
    "def confidenceLevelSegregation(df,confLevel):\n",
    "    #Lower confidence boxes shown in red\n",
    "    if int(df['conf']) < confLevel:\n",
    "        (x, y, w, h) = (df['left'], df['top'], df['width'], df['height'])\n",
    "        img = cv2.rectangle(img, (x, y), (x + w, y + h), (0,0, 255), 2) #(BGR),thickness\n",
    "        df['confidenceLevel'] = 'Low'\n",
    "    else: # Rest of the boxes are in green\n",
    "        (x, y, w, h) = (df['left'], df['top'], df['width'], df['height'])\n",
    "        img = cv2.rectangle(img, (x, y), (x + w, y + h), (0,0, 255), 2) #(BGR),thickness\n",
    "        df['confidenceLevel'] = 'High'\n",
    "    # # Creating a visualization that showcases the boxes \n",
    "    # # cv2.imshow('img', img)\n",
    "    # # cv2.waitKey(5000)\n",
    "    # df['confidenceLevel'] = np.where(\n",
    "    #     df['conf'] < confLevel, # condition\n",
    "    #     \"Low\",    # result if true\n",
    "    #     \"High\",   # result if false\n",
    "    # )\n",
    "    # df['confidenceLevel'] = df['conf'].map(lambda x : \"Low\" if(x < confLevel) else \"High\")\n",
    "    return df"
   ]
  },
  {
   "cell_type": "code",
   "execution_count": 49,
   "metadata": {},
   "outputs": [],
   "source": [
    "def paraBreakdownConfidenceLevel(folderName,pageNum,confLevel):\n",
    "    img = cv2.imread(f'{folderName}/Page_{pageNum}.jpg')\n",
    "    custom_config = r'--psm 3'\n",
    "    d = pytesseract.image_to_data(img,config=custom_config, output_type=Output.DICT)\n",
    "    # print(d.keys())\n",
    "    df = pd.DataFrame(d)\n",
    "    #Grouping the text by their block numbers\n",
    "    processedDf = df.groupby(['block_num']).agg(\n",
    "        {\n",
    "            'left':min,  \n",
    "            'top': min,  \n",
    "            'width': max,\n",
    "            'height': max,\n",
    "            'conf': 'mean',\n",
    "            'text': (lambda x: ' '.join(x))\n",
    "        }\n",
    "    )\n",
    "    grouped_df = processedDf.reset_index()\n",
    "    grouped_df['Page'] = pageNum\n",
    "\n",
    "    for i in range(len(grouped_df)):\n",
    "        if int(grouped_df.loc[i,'left']) < confLevel:\n",
    "            (x, y, w, h) = (grouped_df.loc[i,'left'], grouped_df.loc[i,'top'], grouped_df.loc[i,'width'], grouped_df.loc[i,'height'])\n",
    "            img = cv2.rectangle(img, (x, y), (x + w, y + h), (0, 0, 255), 2)\n",
    "            df['confidenceLevel'] = 'Low'\n",
    "        else:\n",
    "            (x, y, w, h) = (grouped_df.loc[i,'left'], grouped_df.loc[i,'top'], grouped_df.loc[i,'width'], grouped_df.loc[i,'height'])\n",
    "            img = cv2.rectangle(img, (x, y), (x + w, y + h), (0, 255, ), 2)\n",
    "            df['confidenceLevel'] = 'High'\n",
    "            \n",
    "    # # Creating a visualization that showcases the boxes \n",
    "    # # cv2.imshow('img', img)\n",
    "    # # cv2.waitKey(5000)\n",
    "    return df\n",
    "\n",
    "\n",
    "    # segregatedDF = confidenceLevelSegregation(grouped_df,confLevel)\n",
    "    # return segregatedDF\n"
   ]
  },
  {
   "cell_type": "code",
   "execution_count": 6,
   "metadata": {},
   "outputs": [],
   "source": [
    "def paraBreakdown(folderName,pageNum):\n",
    "    img = cv2.imread(f'{folderName}/Page_{pageNum}.jpg')\n",
    "    custom_config = r'--psm 3'\n",
    "    d = pytesseract.image_to_data(img,config=custom_config, output_type=Output.DICT)\n",
    "    # print(d.keys())\n",
    "    df = pd.DataFrame(d)\n",
    "    #Grouping the text by their block numbers\n",
    "    processedDf = df.groupby(['block_num']).agg(\n",
    "        {\n",
    "            'left':min,  \n",
    "            'top': min,  \n",
    "            'width': max,\n",
    "            'height': max,\n",
    "            'conf': 'mean',\n",
    "            'text': (lambda x: ' '.join(x))\n",
    "        }\n",
    "    )\n",
    "    grouped_df = processedDf.reset_index()\n",
    "    grouped_df['Page'] = pageNum\n",
    "    # # Creating a visualization that showcases the boxes \n",
    "    # for i in range(len(grouped_df)):\n",
    "    # # print(grouped_df.loc[i,'left'])\n",
    "    #     if int(grouped_df.loc[i,'left']) > 60:\n",
    "    #         (x, y, w, h) = (grouped_df.loc[i,'left'], grouped_df.loc[i,'top'], grouped_df.loc[i,'width'], grouped_df.loc[i,'height'])\n",
    "    #         img = cv2.rectangle(img, (x, y), (x + w, y + h), (0, 255, 0), 2)\n",
    "\n",
    "\n",
    "    # cv2.imshow('img', img)\n",
    "    # cv2.waitKey(5000)\n",
    "    # grouped_df.to_csv(f'./Page_{pageNum}paraBlocksTrial.csv')\n",
    "\n",
    "    # display(grouped_df)\n",
    "    return grouped_df"
   ]
  },
  {
   "cell_type": "code",
   "execution_count": 48,
   "metadata": {},
   "outputs": [],
   "source": [
    "#Converting pdf pages into individual images\n",
    "def convertPDFtoImages(pdfPath,pdfFolderToStoreImages,outputFilePath,confLevel):\n",
    "    pdfs = pdfPath #\"./Articles/amz_letters.pdf\"\n",
    "    pages = convert_from_path(pdfs, 350)\n",
    "    print('Ingested all the pages from the pdf. Moving on to process them next ==>')\n",
    "    df = pd.DataFrame()\n",
    "    i = 1\n",
    "    for page in pages:\n",
    "        image_name = \"Page_\" + str(i) + \".jpg\"  \n",
    "        page.save(f'{pdfFolderToStoreImages}/{image_name}', \"JPEG\")\n",
    "        print(f'Doing iteration number {i}')\n",
    "        res = paraBreakdownConfidenceLevel(pdfFolderToStoreImages,i,confLevel)\n",
    "        # display(res)\n",
    "        df=pd.concat([df,res], ignore_index=True)\n",
    "        i = i+1\n",
    "    display(df)\n",
    "    df.to_csv(f'{outputFilePath}')"
   ]
  },
  {
   "cell_type": "code",
   "execution_count": 50,
   "metadata": {},
   "outputs": [
    {
     "ename": "NameError",
     "evalue": "name 'convertPDFtoImages' is not defined",
     "output_type": "error",
     "traceback": [
      "\u001b[0;31m---------------------------------------------------------------------------\u001b[0m",
      "\u001b[0;31mNameError\u001b[0m                                 Traceback (most recent call last)",
      "Cell \u001b[0;32mIn [50], line 1\u001b[0m\n\u001b[0;32m----> 1\u001b[0m convertPDFtoImages(\u001b[39m'\u001b[39m\u001b[39m./Articles/amz_letters.pdf\u001b[39m\u001b[39m'\u001b[39m,\u001b[39m'\u001b[39m\u001b[39mAMZ_Letters\u001b[39m\u001b[39m'\u001b[39m,\u001b[39m'\u001b[39m\u001b[39mAMZ_Letters/fullAMZParaBlocks.csv\u001b[39m\u001b[39m'\u001b[39m)\n",
      "\u001b[0;31mNameError\u001b[0m: name 'convertPDFtoImages' is not defined"
     ]
    }
   ],
   "source": [
    "convertPDFtoImages('./Articles/amz_letters.pdf','AMZ_Letters','AMZ_Letters/fullAMZParaBlocks.csv',30)"
   ]
  },
  {
   "cell_type": "code",
   "execution_count": null,
   "metadata": {},
   "outputs": [],
   "source": []
  }
 ],
 "metadata": {
  "kernelspec": {
   "display_name": "Python 3",
   "language": "python",
   "name": "python3"
  },
  "language_info": {
   "codemirror_mode": {
    "name": "ipython",
    "version": 3
   },
   "file_extension": ".py",
   "mimetype": "text/x-python",
   "name": "python",
   "nbconvert_exporter": "python",
   "pygments_lexer": "ipython3",
   "version": "3.9.0"
  },
  "orig_nbformat": 4,
  "vscode": {
   "interpreter": {
    "hash": "aee8b7b246df8f9039afb4144a1f6fd8d2ca17a180786b69acc140d282b71a49"
   }
  }
 },
 "nbformat": 4,
 "nbformat_minor": 2
}
