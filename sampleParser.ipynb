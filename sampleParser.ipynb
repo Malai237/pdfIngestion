{
 "cells": [
  {
   "cell_type": "code",
   "execution_count": 1,
   "metadata": {},
   "outputs": [],
   "source": [
    "# %pip install py_pdf_parser\n",
    "# %pip install pyvoronoi\n",
    "# %pip install shapely"
   ]
  },
  {
   "cell_type": "code",
   "execution_count": 5,
   "metadata": {},
   "outputs": [],
   "source": [
    "from py_pdf_parser.loaders import load_file\n",
    "from pprint import pprint\n",
    "document = load_file(\"ANTH 138a_Assignment 4 - Share Your Lead.pdf\")"
   ]
  },
  {
   "cell_type": "code",
   "execution_count": 10,
   "metadata": {},
   "outputs": [],
   "source": [
    "from py_pdf_parser.visualise import visualise\n",
    "\n",
    "visualise(document)\n"
   ]
  },
  {
   "cell_type": "code",
   "execution_count": 9,
   "metadata": {},
   "outputs": [
    {
     "ename": "NoElementFoundError",
     "evalue": "There are no elements in the ElementList",
     "output_type": "error",
     "traceback": [
      "\u001b[0;31m---------------------------------------------------------------------------\u001b[0m",
      "\u001b[0;31mNoElementFoundError\u001b[0m                       Traceback (most recent call last)",
      "Cell \u001b[0;32mIn [9], line 1\u001b[0m\n\u001b[0;32m----> 1\u001b[0m submit_element \u001b[39m=\u001b[39m document\u001b[39m.\u001b[39;49melements\u001b[39m.\u001b[39;49mfilter_by_text_equal(\u001b[39m\"\u001b[39;49m\u001b[39mSumbit\u001b[39;49m\u001b[39m\"\u001b[39;49m)\u001b[39m.\u001b[39;49mextract_single_element()\n\u001b[1;32m      2\u001b[0m purpose_element \u001b[39m=\u001b[39m document\u001b[39m.\u001b[39melements\u001b[39m.\u001b[39mfilter_by_text_equal(\u001b[39m\"\u001b[39m\u001b[39mPurpose\u001b[39m\u001b[39m\"\u001b[39m)\u001b[39m.\u001b[39mextract_single_element()\n\u001b[1;32m      3\u001b[0m task_element \u001b[39m=\u001b[39m document\u001b[39m.\u001b[39melements\u001b[39m.\u001b[39mfilter_by_text_equal(\u001b[39m\"\u001b[39m\u001b[39mTask\u001b[39m\u001b[39m\"\u001b[39m)\u001b[39m.\u001b[39mextract_single_element()\n",
      "File \u001b[0;32m~/Library/Python/3.9/lib/python/site-packages/py_pdf_parser/filtering.py:783\u001b[0m, in \u001b[0;36mElementList.extract_single_element\u001b[0;34m(self)\u001b[0m\n\u001b[1;32m    768\u001b[0m \u001b[39m\"\"\"\u001b[39;00m\n\u001b[1;32m    769\u001b[0m \u001b[39mReturns only element in the ElementList, provided there is only one element.\u001b[39;00m\n\u001b[1;32m    770\u001b[0m \n\u001b[0;32m   (...)\u001b[0m\n\u001b[1;32m    780\u001b[0m \u001b[39m    PDFElement: The single element remaining in the list.\u001b[39;00m\n\u001b[1;32m    781\u001b[0m \u001b[39m\"\"\"\u001b[39;00m\n\u001b[1;32m    782\u001b[0m \u001b[39mif\u001b[39;00m \u001b[39mlen\u001b[39m(\u001b[39mself\u001b[39m\u001b[39m.\u001b[39mindexes) \u001b[39m==\u001b[39m \u001b[39m0\u001b[39m:\n\u001b[0;32m--> 783\u001b[0m     \u001b[39mraise\u001b[39;00m NoElementFoundError(\u001b[39m\"\u001b[39m\u001b[39mThere are no elements in the ElementList\u001b[39m\u001b[39m\"\u001b[39m)\n\u001b[1;32m    784\u001b[0m \u001b[39mif\u001b[39;00m \u001b[39mlen\u001b[39m(\u001b[39mself\u001b[39m\u001b[39m.\u001b[39mindexes) \u001b[39m>\u001b[39m \u001b[39m1\u001b[39m:\n\u001b[1;32m    785\u001b[0m     \u001b[39mraise\u001b[39;00m MultipleElementsFoundError(\n\u001b[1;32m    786\u001b[0m         \u001b[39mf\u001b[39m\u001b[39m\"\u001b[39m\u001b[39mThere are \u001b[39m\u001b[39m{\u001b[39;00m\u001b[39mlen\u001b[39m(\u001b[39mself\u001b[39m\u001b[39m.\u001b[39mindexes)\u001b[39m}\u001b[39;00m\u001b[39m elements in the ElementList\u001b[39m\u001b[39m\"\u001b[39m\n\u001b[1;32m    787\u001b[0m     )\n",
      "\u001b[0;31mNoElementFoundError\u001b[0m: There are no elements in the ElementList"
     ]
    }
   ],
   "source": [
    "submit_element = document.elements.filter_by_text_equal(\"Sumbit\").extract_single_element()\n",
    "purpose_element = document.elements.filter_by_text_equal(\"Purpose\").extract_single_element()\n",
    "task_element = document.elements.filter_by_text_equal(\"Task\").extract_single_element()\n",
    "# subject_element = document.elements.filter_by_text_equal(\"SUBJECT:\").extract_single_element()"
   ]
  },
  {
   "cell_type": "code",
   "execution_count": 6,
   "metadata": {},
   "outputs": [],
   "source": [
    "to_text = document.elements.to_the_right_of(to_element).extract_single_element().text()\n",
    "from_text = (document.elements.to_the_right_of(from_element).extract_single_element().text())\n",
    "date_text = (document.elements.to_the_right_of(date_element).extract_single_element().text())\n",
    "subject_text_element = document.elements.to_the_right_of(subject_element).extract_single_element()\n",
    "subject_text = subject_text_element.text()"
   ]
  },
  {
   "cell_type": "code",
   "execution_count": 11,
   "metadata": {},
   "outputs": [],
   "source": [
    "content_elements = document.elements.after(subject_element)\n",
    "# print(content_elements)\n",
    "content_text = \"\\n\".join(element.text() for element in content_elements)"
   ]
  },
  {
   "cell_type": "code",
   "execution_count": 12,
   "metadata": {},
   "outputs": [],
   "source": [
    "output = {\n",
    "    \"to\": to_text,\n",
    "    \"from\": from_text,\n",
    "    \"date\": date_text,\n",
    "    \"subject\": subject_text,\n",
    "    \"content\": content_text,\n",
    "}\n"
   ]
  },
  {
   "cell_type": "code",
   "execution_count": 14,
   "metadata": {},
   "outputs": [
    {
     "name": "stdout",
     "output_type": "stream",
     "text": [
      "{'content': 'A new PDF Parsing tool\\n'\n",
      "            'There is a new PDF parsing tool available, called py-pdf-parser - '\n",
      "            'you should all check it out!\\n'\n",
      "            'I think it could really help you extract that data we need from '\n",
      "            'those PDFs.',\n",
      " 'date': '1st January 2020',\n",
      " 'from': 'John Smith',\n",
      " 'subject': 'A new PDF Parsing tool',\n",
      " 'to': 'All Developers'}\n"
     ]
    }
   ],
   "source": [
    "pprint(output)\n"
   ]
  },
  {
   "cell_type": "code",
   "execution_count": null,
   "metadata": {},
   "outputs": [],
   "source": []
  }
 ],
 "metadata": {
  "kernelspec": {
   "display_name": "Python 3",
   "language": "python",
   "name": "python3"
  },
  "language_info": {
   "codemirror_mode": {
    "name": "ipython",
    "version": 3
   },
   "file_extension": ".py",
   "mimetype": "text/x-python",
   "name": "python",
   "nbconvert_exporter": "python",
   "pygments_lexer": "ipython3",
   "version": "3.9.0 (v3.9.0:9cf6752276, Oct  5 2020, 11:29:23) \n[Clang 6.0 (clang-600.0.57)]"
  },
  "orig_nbformat": 4,
  "vscode": {
   "interpreter": {
    "hash": "aee8b7b246df8f9039afb4144a1f6fd8d2ca17a180786b69acc140d282b71a49"
   }
  }
 },
 "nbformat": 4,
 "nbformat_minor": 2
}
