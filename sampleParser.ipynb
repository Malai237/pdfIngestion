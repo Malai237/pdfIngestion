{
 "cells": [
  {
   "cell_type": "code",
   "execution_count": 1,
   "metadata": {},
   "outputs": [],
   "source": [
    "# %pip install py_pdf_parser\n",
    "# %pip install pyvoronoi\n",
    "# %pip install shapely"
   ]
  },
  {
   "cell_type": "code",
   "execution_count": 13,
   "metadata": {},
   "outputs": [],
   "source": [
    "from py_pdf_parser.loaders import load_file\n",
    "from pprint import pprint\n",
    "document = load_file(\"simple_memo.pdf\")"
   ]
  },
  {
   "cell_type": "code",
   "execution_count": 3,
   "metadata": {},
   "outputs": [],
   "source": [
    "from py_pdf_parser.visualise import visualise\n",
    "\n",
    "visualise(document)\n"
   ]
  },
  {
   "cell_type": "code",
   "execution_count": 4,
   "metadata": {},
   "outputs": [],
   "source": [
    "to_element = document.elements.filter_by_text_equal(\"TO:\").extract_single_element()\n",
    "from_element = document.elements.filter_by_text_equal(\"FROM:\").extract_single_element()\n",
    "date_element = document.elements.filter_by_text_equal(\"DATE:\").extract_single_element()\n",
    "subject_element = document.elements.filter_by_text_equal(\"SUBJECT:\").extract_single_element()"
   ]
  },
  {
   "cell_type": "code",
   "execution_count": 6,
   "metadata": {},
   "outputs": [],
   "source": [
    "to_text = document.elements.to_the_right_of(to_element).extract_single_element().text()\n",
    "from_text = (document.elements.to_the_right_of(from_element).extract_single_element().text())\n",
    "date_text = (document.elements.to_the_right_of(date_element).extract_single_element().text())\n",
    "subject_text_element = document.elements.to_the_right_of(subject_element).extract_single_element()\n",
    "subject_text = subject_text_element.text()"
   ]
  },
  {
   "cell_type": "code",
   "execution_count": 11,
   "metadata": {},
   "outputs": [],
   "source": [
    "content_elements = document.elements.after(subject_element)\n",
    "# print(content_elements)\n",
    "content_text = \"\\n\".join(element.text() for element in content_elements)"
   ]
  },
  {
   "cell_type": "code",
   "execution_count": 12,
   "metadata": {},
   "outputs": [],
   "source": [
    "output = {\n",
    "    \"to\": to_text,\n",
    "    \"from\": from_text,\n",
    "    \"date\": date_text,\n",
    "    \"subject\": subject_text,\n",
    "    \"content\": content_text,\n",
    "}\n"
   ]
  },
  {
   "cell_type": "code",
   "execution_count": 14,
   "metadata": {},
   "outputs": [
    {
     "name": "stdout",
     "output_type": "stream",
     "text": [
      "{'content': 'A new PDF Parsing tool\\n'\n",
      "            'There is a new PDF parsing tool available, called py-pdf-parser - '\n",
      "            'you should all check it out!\\n'\n",
      "            'I think it could really help you extract that data we need from '\n",
      "            'those PDFs.',\n",
      " 'date': '1st January 2020',\n",
      " 'from': 'John Smith',\n",
      " 'subject': 'A new PDF Parsing tool',\n",
      " 'to': 'All Developers'}\n"
     ]
    }
   ],
   "source": [
    "pprint(output)\n"
   ]
  },
  {
   "cell_type": "code",
   "execution_count": null,
   "metadata": {},
   "outputs": [],
   "source": []
  }
 ],
 "metadata": {
  "kernelspec": {
   "display_name": "Python 3",
   "language": "python",
   "name": "python3"
  },
  "language_info": {
   "codemirror_mode": {
    "name": "ipython",
    "version": 3
   },
   "file_extension": ".py",
   "mimetype": "text/x-python",
   "name": "python",
   "nbconvert_exporter": "python",
   "pygments_lexer": "ipython3",
   "version": "3.9.0"
  },
  "orig_nbformat": 4,
  "vscode": {
   "interpreter": {
    "hash": "aee8b7b246df8f9039afb4144a1f6fd8d2ca17a180786b69acc140d282b71a49"
   }
  }
 },
 "nbformat": 4,
 "nbformat_minor": 2
}
